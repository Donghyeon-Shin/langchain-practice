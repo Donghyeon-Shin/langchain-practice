{
 "cells": [
  {
   "cell_type": "code",
   "execution_count": 128,
   "metadata": {},
   "outputs": [
    {
     "data": {
      "text/plain": [
       "'\"{\\\\\"1727654400000\\\\\":{\\\\\"Tax Effect Of Unusual Items\\\\\":0.0,\\\\\"Tax Rate For Calcs\\\\\":0.240912,\\\\\"Normalized EBITDA\\\\\":134661000000.0,\\\\\"Net Income From Continuing Operation Net Minority Interest\\\\\":93736000000.0,\\\\\"Reconciled Depreciation\\\\\":11445000000.0,\\\\\"Reconciled Cost Of Revenue\\\\\":210352000000.0,\\\\\"EBITDA\\\\\":134661000000.0,\\\\\"EBIT\\\\\":123216000000.0,\\\\\"Net Interest Income\\\\\":null,\\\\\"Interest Expense\\\\\":null,\\\\\"Interest Income\\\\\":null,\\\\\"Normalized Income\\\\\":93736000000.0,\\\\\"Net Income From Continuing And Discontinued Operation\\\\\":93736000000.0,\\\\\"Total Expenses\\\\\":267819000000.0,\\\\\"Total Operating Income As Reported\\\\\":123216000000.0,\\\\\"Diluted Average Shares\\\\\":null,\\\\\"Basic Average Shares\\\\\":null,\\\\\"Diluted EPS\\\\\":null,\\\\\"Basic EPS\\\\\":null,\\\\\"Diluted NI Availto Com Stockholders\\\\\":93736000000.0,\\\\\"Net Income Common Stockholders\\\\\":93736000000.0,\\\\\"Net Income\\\\\":93736000000.0,\\\\\"Net Income Including Noncontrolling Interests\\\\\":93736000000.0,\\\\\"Net Income Continuous Operations\\\\\":93736000000.0,\\\\\"Tax Provision\\\\\":29749000000.0,\\\\\"Pretax Income\\\\\":123485000000.0,\\\\\"Other Income Expense\\\\\":269000000.0,\\\\\"Other Non Operating Income Expenses\\\\\":269000000.0,\\\\\"Net Non Operating Interest Income Expense\\\\\":null,\\\\\"Interest Expense Non Operating\\\\\":null,\\\\\"Interest Income Non Operating\\\\\":null,\\\\\"Operating Income\\\\\":123216000000.0,\\\\\"Operating Expense\\\\\":57467000000.0,\\\\\"Research And Development\\\\\":31370000000.0,\\\\\"Selling General And Administration\\\\\":26097000000.0,\\\\\"Gross Profit\\\\\":180683000000.0,\\\\\"Cost Of Revenue\\\\\":210352000000.0,\\\\\"Total Revenue\\\\\":391035000000.0,\\\\\"Operating Revenue\\\\\":391035000000.0},\\\\\"1696032000000\\\\\":{\\\\\"Tax Effect Of Unusual Items\\\\\":0.0,\\\\\"Tax Rate For Calcs\\\\\":0.147192,\\\\\"Normalized EBITDA\\\\\":125820000000.0,\\\\\"Net Income From Continuing Operation Net Minority Interest\\\\\":96995000000.0,\\\\\"Reconciled Depreciation\\\\\":11519000000.0,\\\\\"Reconciled Cost Of Revenue\\\\\":214137000000.0,\\\\\"EBITDA\\\\\":125820000000.0,\\\\\"EBIT\\\\\":114301000000.0,\\\\\"Net Interest Income\\\\\":-183000000.0,\\\\\"Interest Expense\\\\\":3933000000.0,\\\\\"Interest Income\\\\\":3750000000.0,\\\\\"Normalized Income\\\\\":96995000000.0,\\\\\"Net Income From Continuing And Discontinued Operation\\\\\":96995000000.0,\\\\\"Total Expenses\\\\\":268984000000.0,\\\\\"Total Operating Income As Reported\\\\\":114301000000.0,\\\\\"Diluted Average Shares\\\\\":15812547000.0,\\\\\"Basic Average Shares\\\\\":15744231000.0,\\\\\"Diluted EPS\\\\\":6.13,\\\\\"Basic EPS\\\\\":6.16,\\\\\"Diluted NI Availto Com Stockholders\\\\\":96995000000.0,\\\\\"Net Income Common Stockholders\\\\\":96995000000.0,\\\\\"Net Income\\\\\":96995000000.0,\\\\\"Net Income Including Noncontrolling Interests\\\\\":96995000000.0,\\\\\"Net Income Continuous Operations\\\\\":96995000000.0,\\\\\"Tax Provision\\\\\":16741000000.0,\\\\\"Pretax Income\\\\\":113736000000.0,\\\\\"Other Income Expense\\\\\":-565000000.0,\\\\\"Other Non Operating Income Expenses\\\\\":-565000000.0,\\\\\"Net Non Operating Interest Income Expense\\\\\":-183000000.0,\\\\\"Interest Expense Non Operating\\\\\":3933000000.0,\\\\\"Interest Income Non Operating\\\\\":3750000000.0,\\\\\"Operating Income\\\\\":114301000000.0,\\\\\"Operating Expense\\\\\":54847000000.0,\\\\\"Research And Development\\\\\":29915000000.0,\\\\\"Selling General And Administration\\\\\":24932000000.0,\\\\\"Gross Profit\\\\\":169148000000.0,\\\\\"Cost Of Revenue\\\\\":214137000000.0,\\\\\"Total Revenue\\\\\":383285000000.0,\\\\\"Operating Revenue\\\\\":383285000000.0},\\\\\"1664496000000\\\\\":{\\\\\"Tax Effect Of Unusual Items\\\\\":0.0,\\\\\"Tax Rate For Calcs\\\\\":0.162,\\\\\"Normalized EBITDA\\\\\":130541000000.0,\\\\\"Net Income From Continuing Operation Net Minority Interest\\\\\":99803000000.0,\\\\\"Reconciled Depreciation\\\\\":11104000000.0,\\\\\"Reconciled Cost Of Revenue\\\\\":223546000000.0,\\\\\"EBITDA\\\\\":130541000000.0,\\\\\"EBIT\\\\\":119437000000.0,\\\\\"Net Interest Income\\\\\":-106000000.0,\\\\\"Interest Expense\\\\\":2931000000.0,\\\\\"Interest Income\\\\\":2825000000.0,\\\\\"Normalized Income\\\\\":99803000000.0,\\\\\"Net Income From Continuing And Discontinued Operation\\\\\":99803000000.0,\\\\\"Total Expenses\\\\\":274891000000.0,\\\\\"Total Operating Income As Reported\\\\\":119437000000.0,\\\\\"Diluted Average Shares\\\\\":16325819000.0,\\\\\"Basic Average Shares\\\\\":16215963000.0,\\\\\"Diluted EPS\\\\\":6.11,\\\\\"Basic EPS\\\\\":6.15,\\\\\"Diluted NI Availto Com Stockholders\\\\\":99803000000.0,\\\\\"Net Income Common Stockholders\\\\\":99803000000.0,\\\\\"Net Income\\\\\":99803000000.0,\\\\\"Net Income Including Noncontrolling Interests\\\\\":99803000000.0,\\\\\"Net Income Continuous Operations\\\\\":99803000000.0,\\\\\"Tax Provision\\\\\":19300000000.0,\\\\\"Pretax Income\\\\\":119103000000.0,\\\\\"Other Income Expense\\\\\":-334000000.0,\\\\\"Other Non Operating Income Expenses\\\\\":-334000000.0,\\\\\"Net Non Operating Interest Income Expense\\\\\":-106000000.0,\\\\\"Interest Expense Non Operating\\\\\":2931000000.0,\\\\\"Interest Income Non Operating\\\\\":2825000000.0,\\\\\"Operating Income\\\\\":119437000000.0,\\\\\"Operating Expense\\\\\":51345000000.0,\\\\\"Research And Development\\\\\":26251000000.0,\\\\\"Selling General And Administration\\\\\":25094000000.0,\\\\\"Gross Profit\\\\\":170782000000.0,\\\\\"Cost Of Revenue\\\\\":223546000000.0,\\\\\"Total Revenue\\\\\":394328000000.0,\\\\\"Operating Revenue\\\\\":394328000000.0},\\\\\"1632960000000\\\\\":{\\\\\"Tax Effect Of Unusual Items\\\\\":0.0,\\\\\"Tax Rate For Calcs\\\\\":0.133,\\\\\"Normalized EBITDA\\\\\":123136000000.0,\\\\\"Net Income From Continuing Operation Net Minority Interest\\\\\":94680000000.0,\\\\\"Reconciled Depreciation\\\\\":11284000000.0,\\\\\"Reconciled Cost Of Revenue\\\\\":212981000000.0,\\\\\"EBITDA\\\\\":123136000000.0,\\\\\"EBIT\\\\\":111852000000.0,\\\\\"Net Interest Income\\\\\":198000000.0,\\\\\"Interest Expense\\\\\":2645000000.0,\\\\\"Interest Income\\\\\":2843000000.0,\\\\\"Normalized Income\\\\\":94680000000.0,\\\\\"Net Income From Continuing And Discontinued Operation\\\\\":94680000000.0,\\\\\"Total Expenses\\\\\":256868000000.0,\\\\\"Total Operating Income As Reported\\\\\":108949000000.0,\\\\\"Diluted Average Shares\\\\\":16864919000.0,\\\\\"Basic Average Shares\\\\\":16701272000.0,\\\\\"Diluted EPS\\\\\":5.61,\\\\\"Basic EPS\\\\\":5.67,\\\\\"Diluted NI Availto Com Stockholders\\\\\":94680000000.0,\\\\\"Net Income Common Stockholders\\\\\":94680000000.0,\\\\\"Net Income\\\\\":94680000000.0,\\\\\"Net Income Including Noncontrolling Interests\\\\\":94680000000.0,\\\\\"Net Income Continuous Operations\\\\\":94680000000.0,\\\\\"Tax Provision\\\\\":14527000000.0,\\\\\"Pretax Income\\\\\":109207000000.0,\\\\\"Other Income Expense\\\\\":60000000.0,\\\\\"Other Non Operating Income Expenses\\\\\":60000000.0,\\\\\"Net Non Operating Interest Income Expense\\\\\":198000000.0,\\\\\"Interest Expense Non Operating\\\\\":2645000000.0,\\\\\"Interest Income Non Operating\\\\\":2843000000.0,\\\\\"Operating Income\\\\\":108949000000.0,\\\\\"Operating Expense\\\\\":43887000000.0,\\\\\"Research And Development\\\\\":21914000000.0,\\\\\"Selling General And Administration\\\\\":21973000000.0,\\\\\"Gross Profit\\\\\":152836000000.0,\\\\\"Cost Of Revenue\\\\\":212981000000.0,\\\\\"Total Revenue\\\\\":365817000000.0,\\\\\"Operating Revenue\\\\\":365817000000.0},\\\\\"1601424000000\\\\\":{\\\\\"Tax Effect Of Unusual Items\\\\\":null,\\\\\"Tax Rate For Calcs\\\\\":null,\\\\\"Normalized EBITDA\\\\\":null,\\\\\"Net Income From Continuing Operation Net Minority Interest\\\\\":null,\\\\\"Reconciled Depreciation\\\\\":null,\\\\\"Reconciled Cost Of Revenue\\\\\":null,\\\\\"EBITDA\\\\\":null,\\\\\"EBIT\\\\\":null,\\\\\"Net Interest Income\\\\\":890000000.0,\\\\\"Interest Expense\\\\\":2873000000.0,\\\\\"Interest Income\\\\\":3763000000.0,\\\\\"Normalized Income\\\\\":null,\\\\\"Net Income From Continuing And Discontinued Operation\\\\\":null,\\\\\"Total Expenses\\\\\":null,\\\\\"Total Operating Income As Reported\\\\\":null,\\\\\"Diluted Average Shares\\\\\":17528214000.0,\\\\\"Basic Average Shares\\\\\":17352119000.0,\\\\\"Diluted EPS\\\\\":3.28,\\\\\"Basic EPS\\\\\":3.31,\\\\\"Diluted NI Availto Com Stockholders\\\\\":null,\\\\\"Net Income Common Stockholders\\\\\":null,\\\\\"Net Income\\\\\":null,\\\\\"Net Income Including Noncontrolling Interests\\\\\":null,\\\\\"Net Income Continuous Operations\\\\\":null,\\\\\"Tax Provision\\\\\":null,\\\\\"Pretax Income\\\\\":null,\\\\\"Other Income Expense\\\\\":null,\\\\\"Other Non Operating Income Expenses\\\\\":null,\\\\\"Net Non Operating Interest Income Expense\\\\\":890000000.0,\\\\\"Interest Expense Non Operating\\\\\":2873000000.0,\\\\\"Interest Income Non Operating\\\\\":3763000000.0,\\\\\"Operating Income\\\\\":null,\\\\\"Operating Expense\\\\\":null,\\\\\"Research And Development\\\\\":null,\\\\\"Selling General And Administration\\\\\":null,\\\\\"Gross Profit\\\\\":null,\\\\\"Cost Of Revenue\\\\\":null,\\\\\"Total Revenue\\\\\":null,\\\\\"Operating Revenue\\\\\":null}}\"'"
      ]
     },
     "execution_count": 128,
     "metadata": {},
     "output_type": "execute_result"
    }
   ],
   "source": [
    "from langchain.utilities.duckduckgo_search import DuckDuckGoSearchAPIWrapper\n",
    "import yfinance\n",
    "import json\n",
    "\n",
    "\n",
    "def get_ticker(inputs):\n",
    "    ddg = DuckDuckGoSearchAPIWrapper()\n",
    "    company_name = inputs[\"company_name\"]\n",
    "    return ddg.run(f\"Ticker symbol of {company_name}\")\n",
    "\n",
    "\n",
    "def get_income_statement(inputs):\n",
    "    ticker = inputs[\"ticker\"]\n",
    "    stock = yfinance.Ticker(ticker)\n",
    "    return json.dumps(stock.income_stmt.to_json())\n",
    "\n",
    "\n",
    "def get_balance_sheet(inputs):\n",
    "    ticker = inputs[\"ticker\"]\n",
    "    stock = yfinance.Ticker(ticker)\n",
    "    return json.dumps(stock.income_stmt.to_json())\n",
    "\n",
    "\n",
    "def get_daily_stock_performance(inputs):\n",
    "    ticker = inputs[\"ticker\"]\n",
    "    stock = yfinance.Ticker(ticker)\n",
    "    return json.dumps(stock.history(period=\"3mo\").to_json())\n",
    "\n",
    "\n",
    "functoins_map = {\n",
    "    \"get_ticker\": get_ticker,\n",
    "    \"get_income_statement\": get_income_statement,\n",
    "    \"get_balance_sheet\": get_balance_sheet,\n",
    "    \"get_daily_stock_performance\": get_daily_stock_performance,\n",
    "}\n",
    "\n",
    "functions = [\n",
    "    {\n",
    "        \"type\": \"function\",\n",
    "        \"function\": {\n",
    "            \"name\": \"get_ticker\",\n",
    "            \"description\": \"Given the name of a company returns its ticker symbol\",\n",
    "            \"parameters\": {\n",
    "                \"type\": \"object\",\n",
    "                \"properties\": {\n",
    "                    \"company_name\": {\n",
    "                        \"type\": \"string\",\n",
    "                        \"description\": \"The name of the company\",\n",
    "                    }\n",
    "                },\n",
    "                \"required\": [\"company_name\"],\n",
    "            },\n",
    "        },\n",
    "    },\n",
    "    {\n",
    "        \"type\": \"function\",\n",
    "        \"function\": {\n",
    "            \"name\": \"get_income_statement\",\n",
    "            \"description\": \"Given a ticker symbol (i.e AAPL) returns the company's income statement.\",\n",
    "            \"parameters\": {\n",
    "                \"type\": \"object\",\n",
    "                \"properties\": {\n",
    "                    \"ticker\": {\n",
    "                        \"type\": \"string\",\n",
    "                        \"description\": \"Ticker symbol of the company\",\n",
    "                    },\n",
    "                },\n",
    "                \"required\": [\"ticker\"],\n",
    "            },\n",
    "        },\n",
    "    },\n",
    "    {\n",
    "        \"type\": \"function\",\n",
    "        \"function\": {\n",
    "            \"name\": \"get_balance_sheet\",\n",
    "            \"description\": \"Given a ticker symbol (i.e AAPL) returns the company's balance sheet.\",\n",
    "            \"parameters\": {\n",
    "                \"type\": \"object\",\n",
    "                \"properties\": {\n",
    "                    \"ticker\": {\n",
    "                        \"type\": \"string\",\n",
    "                        \"description\": \"Ticker symbol of the company\",\n",
    "                    },\n",
    "                },\n",
    "                \"required\": [\"ticker\"],\n",
    "            },\n",
    "        },\n",
    "    },\n",
    "    {\n",
    "        \"type\": \"function\",\n",
    "        \"function\": {\n",
    "            \"name\": \"get_daily_stock_performance\",\n",
    "            \"description\": \"Given a ticker symbol (i.e AAPL) returns the performance of the stock for the last 100 days.\",\n",
    "            \"parameters\": {\n",
    "                \"type\": \"object\",\n",
    "                \"properties\": {\n",
    "                    \"ticker\": {\n",
    "                        \"type\": \"string\",\n",
    "                        \"description\": \"Ticker symbol of the company\",\n",
    "                    },\n",
    "                },\n",
    "                \"required\": [\"ticker\"],\n",
    "            },\n",
    "        },\n",
    "    },\n",
    "]\n",
    "\n",
    "get_income_statement({\"ticker\": \"AAPL\"})"
   ]
  },
  {
   "cell_type": "code",
   "execution_count": 130,
   "metadata": {},
   "outputs": [],
   "source": [
    "import openai as client\n",
    "\n",
    "# assistant = client.beta.assistants.create(\n",
    "#     name=\"Investor Assistant\",\n",
    "#     instructions=\"You help user do research on publicly traded companies and you help them decide if they should buy the stock or not.\",\n",
    "#     model=\"gpt-3.5-turbo-0125\",\n",
    "#     tools = functions\n",
    "# )\n",
    "\n",
    "assistant_id = \"asst_W2n1XTFiMov4kmyAk1i7rmKM\""
   ]
  },
  {
   "cell_type": "code",
   "execution_count": 206,
   "metadata": {},
   "outputs": [],
   "source": [
    "thread = client.beta.threads.create()\n",
    "\n",
    "thread_id = thread.id\n",
    "\n",
    "message = client.beta.threads.messages.create(\n",
    "    thread_id=thread_id,\n",
    "    role= \"user\",\n",
    "    content=\"I want to know if Health Catalyst stock is a good buy.\"\n",
    ")"
   ]
  },
  {
   "cell_type": "code",
   "execution_count": 207,
   "metadata": {},
   "outputs": [],
   "source": [
    "run = client.beta.threads.runs.create(\n",
    "    thread_id=thread_id,\n",
    "    assistant_id=assistant_id,\n",
    ")\n",
    "\n",
    "run_id = run.id"
   ]
  },
  {
   "cell_type": "code",
   "execution_count": 205,
   "metadata": {},
   "outputs": [],
   "source": [
    "import json\n",
    "\n",
    "def get_run(run_id, thread_id):\n",
    "    return client.beta.threads.runs.retrieve(\n",
    "        run_id=run_id,\n",
    "        thread_id=thread_id\n",
    "    )\n",
    "\n",
    "def get_messages(thread_id):\n",
    "    messages = client.beta.threads.messages.list(thread_id=thread_id)\n",
    "    messages = list(messages)\n",
    "    messages.reverse()\n",
    "    for message in messages:\n",
    "        print(f\"{message.role}:{message.content[0].text.value}\")\n",
    "\n",
    "\n",
    "def get_tool_output(run_id, thread_id):\n",
    "    run = get_run(run_id, thread_id)\n",
    "    outputs = []\n",
    "    for action in run.required_action.submit_tool_outputs.tool_calls:\n",
    "        action_id = action.id\n",
    "        function = action.function\n",
    "        print(f\"Calling function {function.name} with arg {function.arguments}\")\n",
    "        outputs.append(\n",
    "            {\n",
    "                \"output\": functoins_map[function.name](json.loads(function.arguments)),\n",
    "                \"tool_call_id\": action_id,\n",
    "            }\n",
    "        )\n",
    "    return outputs \n",
    "\n",
    "def submit_tool_output(run_id, thread_id):\n",
    "    outputs = get_tool_output(run_id, thread_id)\n",
    "    return client.beta.threads.runs.submit_tool_outputs(\n",
    "        run_id=run_id,\n",
    "        thread_id=thread_id,\n",
    "        tool_outputs=outputs\n",
    "    )\n",
    "\n",
    "def send_message(thread_id, content):\n",
    "    return client.beta.threads.messages.create(\n",
    "        thread_id=thread_id,\n",
    "        role=\"user\",\n",
    "        content=content,\n",
    "    )"
   ]
  },
  {
   "cell_type": "code",
   "execution_count": null,
   "metadata": {},
   "outputs": [
    {
     "name": "stdout",
     "output_type": "stream",
     "text": [
      "\n",
      "assistant > function\n",
      "\n"
     ]
    }
   ],
   "source": [
    "# from typing_extensions import override\n",
    "# from openai import AssistantEventHandler\n",
    "\n",
    "# # First, we create a EventHandler class to define\n",
    "# # how we want to handle the events in the response stream.\n",
    "\n",
    "\n",
    "# class EventHandler(AssistantEventHandler):\n",
    "\n",
    "#     def on_text_created(self, text) -> None:\n",
    "#         print(f\"\\nassistant > \", end=\"\", flush=True)\n",
    "\n",
    "#     def on_text_delta(self, delta, snapshot):\n",
    "#         print(delta.value, end=\"\", flush=True)\n",
    "\n",
    "#     def on_tool_call_created(self, tool_call):\n",
    "#         print(f\"\\nassistant > {tool_call.type}\\n\", flush=True)\n",
    "\n",
    "#     def on_tool_call_delta(self, delta, snapshot):\n",
    "#         if delta.type == \"code_interpreter\":\n",
    "#             if delta.code_interpreter.input:\n",
    "#                 print(delta.code_interpreter.input, end=\"\", flush=True)\n",
    "#                 if delta.code_interpreter.outputs:\n",
    "#                     print(f\"\\n\\noutput >\", flush=True)\n",
    "#                     for output in delta.code_interpreter.outputs:\n",
    "#                         if output.type == \"logs\":\n",
    "#                             print(f\"\\n{output.logs}\", flush=True)\n",
    "\n",
    "\n",
    "# # Then, we use the `stream` SDK helper\n",
    "# # with the `EventHandler` class to create the Run\n",
    "# # and stream the response.\n",
    "\n",
    "# with client.beta.threads.runs.stream(\n",
    "#     thread_id=thread.id,\n",
    "#     assistant_id=assistant_id,\n",
    "#     instructions=\"You help user do research on publicly traded companies and you help them decide if they should buy the stock or not.\",\n",
    "#     event_handler=EventHandler(),\n",
    "# ) as stream:\n",
    "#     stream.until_done()\n",
    "\n",
    "# stream.current_run_step_snapshot"
   ]
  },
  {
   "cell_type": "code",
   "execution_count": 208,
   "metadata": {},
   "outputs": [
    {
     "name": "stdout",
     "output_type": "stream",
     "text": [
      "user:I want to know if Health Catalyst stock is a good buy.\n"
     ]
    }
   ],
   "source": [
    "get_messages(thread_id)"
   ]
  },
  {
   "cell_type": "code",
   "execution_count": 209,
   "metadata": {},
   "outputs": [
    {
     "data": {
      "text/plain": [
       "'requires_action'"
      ]
     },
     "execution_count": 209,
     "metadata": {},
     "output_type": "execute_result"
    }
   ],
   "source": [
    "get_run(run_id, thread_id).status"
   ]
  },
  {
   "cell_type": "code",
   "execution_count": null,
   "metadata": {},
   "outputs": [
    {
     "name": "stdout",
     "output_type": "stream",
     "text": [
      "Calling function get_ticker with arg {\"company_name\":\"Health Catalyst\"}\n",
      "[{'output': \"Health Catalyst has received a consensus rating of Moderate Buy. The company's average rating score is 2.75, and is based on 9 buy ratings, 3 hold ratings, and no sell ratings. Amount of Analyst Coverage. Health Catalyst has been the subject of 6 research reports in the past 90 days, demonstrating strong analyst interest in this stock. See the latest Health Catalyst Inc stock price (HCAT:XNAS), related news, valuation, dividends and more to help you make your investing decisions. Stock analysis for Health Catalyst Inc (HCAT:NASDAQ GS) including stock price, stock chart, company news, key statistics, fundamentals and company profile. Health Catalyst, Inc. provides data and analytics technology and services to healthcare organizations. Its offerings include data and analytics platform, a commercial-grade data and analytics platform for the healthcare sector; AI and data science, providing integration of AI into existing business intelligence tools, increasing analytics accuracy; population health management identifies ... Health Catalyst, Inc. (HCAT.NASDAQ): Stock quote, stock chart, quotes, analysis, advice, financials and news for Stock Health Catalyst, Inc. | Nasdaq: HCAT | Nasdaq. ... Health Catalyst, Inc. is a provider of data and analytics technology and services to healthcare organizations. The Companyâ s solution comprises its cloud-based data and ...\", 'tool_call_id': 'call_cvV31XVCsLYFpDIy7QQnID7B'}]\n"
     ]
    },
    {
     "data": {
      "text/plain": [
       "'requires_action'"
      ]
     },
     "execution_count": 201,
     "metadata": {},
     "output_type": "execute_result"
    }
   ],
   "source": [
    "submit_tool_output(run_id, thread_id)"
   ]
  }
 ],
 "metadata": {
  "kernelspec": {
   "display_name": "env",
   "language": "python",
   "name": "python3"
  },
  "language_info": {
   "codemirror_mode": {
    "name": "ipython",
    "version": 3
   },
   "file_extension": ".py",
   "mimetype": "text/x-python",
   "name": "python",
   "nbconvert_exporter": "python",
   "pygments_lexer": "ipython3",
   "version": "3.11.6"
  }
 },
 "nbformat": 4,
 "nbformat_minor": 2
}
