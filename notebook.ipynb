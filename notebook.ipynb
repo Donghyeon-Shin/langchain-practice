{
 "cells": [
  {
   "cell_type": "code",
   "execution_count": 9,
   "metadata": {},
   "outputs": [
    {
     "name": "stderr",
     "output_type": "stream",
     "text": [
      "Created a chunk of size 963, which is longer than the specified 500\n",
      "Created a chunk of size 774, which is longer than the specified 500\n",
      "Created a chunk of size 954, which is longer than the specified 500\n",
      "Created a chunk of size 922, which is longer than the specified 500\n",
      "Created a chunk of size 1168, which is longer than the specified 500\n",
      "Created a chunk of size 821, which is longer than the specified 500\n",
      "Created a chunk of size 700, which is longer than the specified 500\n",
      "Created a chunk of size 745, which is longer than the specified 500\n",
      "Created a chunk of size 735, which is longer than the specified 500\n",
      "Created a chunk of size 1110, which is longer than the specified 500\n",
      "Created a chunk of size 991, which is longer than the specified 500\n",
      "Created a chunk of size 562, which is longer than the specified 500\n",
      "Created a chunk of size 990, which is longer than the specified 500\n",
      "Created a chunk of size 1182, which is longer than the specified 500\n",
      "Created a chunk of size 558, which is longer than the specified 500\n",
      "Created a chunk of size 1491, which is longer than the specified 500\n",
      "Created a chunk of size 509, which is longer than the specified 500\n",
      "Created a chunk of size 1401, which is longer than the specified 500\n",
      "Created a chunk of size 1130, which is longer than the specified 500\n",
      "Created a chunk of size 1326, which is longer than the specified 500\n",
      "Created a chunk of size 1449, which is longer than the specified 500\n",
      "Created a chunk of size 1364, which is longer than the specified 500\n",
      "Created a chunk of size 999, which is longer than the specified 500\n",
      "Created a chunk of size 930, which is longer than the specified 500\n",
      "Created a chunk of size 1022, which is longer than the specified 500\n",
      "Created a chunk of size 1260, which is longer than the specified 500\n",
      "Created a chunk of size 795, which is longer than the specified 500\n",
      "Created a chunk of size 1293, which is longer than the specified 500\n",
      "Created a chunk of size 649, which is longer than the specified 500\n",
      "Created a chunk of size 553, which is longer than the specified 500\n"
     ]
    },
    {
     "data": {
      "text/plain": [
       "AIMessage(content=\"Victory Mansions is a place where Winston lives. It is a rundown apartment building with poor living conditions. The residents face shortages of food and basic necessities. Winston's apartment is small and contains very little food, like a hunk of dark-colored bread saved for breakfast. The kitchen is tiny and lacks proper supplies. The atmosphere is grim and reflects the oppressive and austere environment of the society depicted in the text.\")"
      ]
     },
     "execution_count": 9,
     "metadata": {},
     "output_type": "execute_result"
    }
   ],
   "source": [
    "from langchain.chat_models import ChatOpenAI\n",
    "from langchain.document_loaders import UnstructuredFileLoader\n",
    "from langchain.text_splitter import CharacterTextSplitter\n",
    "from langchain.embeddings import OpenAIEmbeddings, CacheBackedEmbeddings\n",
    "from langchain.storage import LocalFileStore\n",
    "from langchain.vectorstores import Chroma\n",
    "from langchain.prompts import ChatPromptTemplate\n",
    "from langchain.schema.runnable import RunnablePassthrough, RunnableLambda\n",
    "\n",
    "llm = ChatOpenAI(temperature=0.1)\n",
    "\n",
    "loader = UnstructuredFileLoader(\"./files/chapter_one.txt\")\n",
    "splitter = CharacterTextSplitter(\n",
    "    separator=\"\\n\\n\",\n",
    "    chunk_size=500,\n",
    "    chunk_overlap=60,\n",
    ")\n",
    "\n",
    "documents = loader.load_and_split(text_splitter=splitter)\n",
    "\n",
    "cache_dir = LocalFileStore(\"./.cache/\")\n",
    "\n",
    "embedder = OpenAIEmbeddings()\n",
    "cache_embedder = CacheBackedEmbeddings.from_bytes_store(embedder, cache_dir)\n",
    "\n",
    "vectorStore = Chroma.from_documents(documents, cache_embedder)\n",
    "retriever = vectorStore.as_retriever()\n",
    "\n",
    "prompt = ChatPromptTemplate.from_messages(\n",
    "    [\n",
    "        (\n",
    "            \"system\",\n",
    "            \"\"\"\n",
    "            You are a helpful assistant. Answer questions using only the following context. \n",
    "            If you don't know the answer just say you don't know, dont't makt it up:\\n\\n{context},            \n",
    "            \"\"\",\n",
    "        ),\n",
    "        (\"human\", \"{question}\"),\n",
    "    ]\n",
    ")\n",
    "\n",
    "chain = {\"context\" : retriever, \"question\" : RunnablePassthrough()}| prompt | llm\n",
    "\n",
    "chain.invoke(\"Describe Victory Mansions\")"
   ]
  }
 ],
 "metadata": {
  "kernelspec": {
   "display_name": "env",
   "language": "python",
   "name": "python3"
  },
  "language_info": {
   "codemirror_mode": {
    "name": "ipython",
    "version": 3
   },
   "file_extension": ".py",
   "mimetype": "text/x-python",
   "name": "python",
   "nbconvert_exporter": "python",
   "pygments_lexer": "ipython3",
   "version": "3.11.6"
  }
 },
 "nbformat": 4,
 "nbformat_minor": 2
}
