{
 "cells": [
  {
   "cell_type": "code",
   "execution_count": 7,
   "metadata": {},
   "outputs": [
    {
     "name": "stderr",
     "output_type": "stream",
     "text": [
      "Device set to use cpu\n",
      "Failed to multipart ingest runs: langsmith.utils.LangSmithAuthError: Authentication failed for https://api.smith.langchain.com/runs/multipart. HTTPError('401 Client Error: Unauthorized for url: https://api.smith.langchain.com/runs/multipart', '{\"detail\":\"Using legacy API key. Please generate a new API key.\"}')trace=5fdec92d-21d2-4a8a-b2e8-8af0281cfd15,id=5fdec92d-21d2-4a8a-b2e8-8af0281cfd15; trace=5fdec92d-21d2-4a8a-b2e8-8af0281cfd15,id=9898dba2-a761-43bc-9fad-ce3eb811b983; trace=5fdec92d-21d2-4a8a-b2e8-8af0281cfd15,id=be38dc4d-9607-459c-8a27-52e8a91dfd4e\n"
     ]
    },
    {
     "data": {
      "text/plain": [
       "\"A tomato is a small tomato, so it takes a long time to grow. Its leaves can be yellow or red color depending on which varieties are used for vegetables on the market. It also has many useful traits.\\n\\nDilution in Tomato Plant Growth\\n\\nWhen tomatoes are growing in containers, they tend to move around a little, but they still go back to growing as a tomato plant. When they're planted, it's best to make sure that they've grown in a well-ventilated container. If containers are too humid (particularly with a cold or wet area), it can cause a drying effect. Because of this, as soon as tomatoes have spread, they're going to break up and go dry. Make sure to get a humidity check before\""
      ]
     },
     "execution_count": 7,
     "metadata": {},
     "output_type": "execute_result"
    },
    {
     "name": "stderr",
     "output_type": "stream",
     "text": [
      "Failed to multipart ingest runs: langsmith.utils.LangSmithAuthError: Authentication failed for https://api.smith.langchain.com/runs/multipart. HTTPError('401 Client Error: Unauthorized for url: https://api.smith.langchain.com/runs/multipart', '{\"detail\":\"Using legacy API key. Please generate a new API key.\"}')trace=5fdec92d-21d2-4a8a-b2e8-8af0281cfd15,id=5fdec92d-21d2-4a8a-b2e8-8af0281cfd15; trace=5fdec92d-21d2-4a8a-b2e8-8af0281cfd15,id=9898dba2-a761-43bc-9fad-ce3eb811b983\n"
     ]
    }
   ],
   "source": [
    "from langchain.llms.huggingface_pipeline import HuggingFacePipeline\n",
    "from langchain.prompts import PromptTemplate\n",
    "\n",
    "prompt = PromptTemplate.from_template(\"A {word} is a\")\n",
    "\n",
    "llm = HuggingFacePipeline.from_model_id(\n",
    "    model_id=\"gpt2\",\n",
    "    task=\"text-generation\",\n",
    "    device = -1,\n",
    "    pipeline_kwargs={\n",
    "        \"max_new_tokens\": 150,\n",
    "    },\n",
    ")\n",
    "\n",
    "chain = prompt | llm\n",
    "\n",
    "chain.invoke(\n",
    "    {\n",
    "        \"word\": \"tomato\",\n",
    "    }\n",
    ")"
   ]
  }
 ],
 "metadata": {
  "kernelspec": {
   "display_name": "env",
   "language": "python",
   "name": "python3"
  },
  "language_info": {
   "codemirror_mode": {
    "name": "ipython",
    "version": 3
   },
   "file_extension": ".py",
   "mimetype": "text/x-python",
   "name": "python",
   "nbconvert_exporter": "python",
   "pygments_lexer": "ipython3",
   "version": "3.11.6"
  }
 },
 "nbformat": 4,
 "nbformat_minor": 2
}
